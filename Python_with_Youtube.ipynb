{
 "cells": [
  {
   "cell_type": "markdown",
   "id": "71906b31-e05d-442a-85a0-7d89428c46e9",
   "metadata": {},
   "source": [
    "# Python with Youtube"
   ]
  },
  {
   "cell_type": "markdown",
   "id": "7abadbe8-4e1b-415e-8598-6abe5e259374",
   "metadata": {
    "tags": []
   },
   "source": [
    "## Level 1"
   ]
  },
  {
   "cell_type": "markdown",
   "id": "9d662513-30d0-4c5a-8f71-cc5ae87da4f0",
   "metadata": {},
   "source": [
    "Téléchargé la playlsit"
   ]
  },
  {
   "cell_type": "markdown",
   "id": "34dc66ad-033a-469f-b37b-aacfd603d567",
   "metadata": {},
   "source": [
    "`pip install pytube` lien de la doc [ ICI ](https://pytube.io/en/latest/m)\n",
    "\n",
    "`pip install pytubeFix` lien de la doc [ ICI ](https://pypi.org/project/pytubefix/)\n",
    "\n",
    "Bien ajouté le token d'identification Youtube.\n",
    "Aller le chercher en navigation privé et non connecté à votre compte Youtube.\n",
    "Il faut le faire la 1er fois après c'est ok."
   ]
  },
  {
   "cell_type": "markdown",
   "id": "fed09a9e-60af-48b7-8107-f783e74cfd1b",
   "metadata": {
    "tags": []
   },
   "source": [
    "### Imports"
   ]
  },
  {
   "cell_type": "code",
   "execution_count": 4,
   "id": "7d5e9cf7-da64-4b56-83a7-4664369b531e",
   "metadata": {},
   "outputs": [],
   "source": [
    "import os \n",
    "from pytubefix  import Playlist\n",
    "from pytubefix  import YouTube\n",
    "import pytubefix.exceptions\n",
    "import shutil"
   ]
  },
  {
   "cell_type": "code",
   "execution_count": 7,
   "id": "55266a21-732a-44ae-8f87-1e6dd261f56d",
   "metadata": {},
   "outputs": [],
   "source": [
    "def download(playlistURL, outputPath):\n",
    "    try : \n",
    "        playlist = Playlist(playlistURL)\n",
    "    except: \n",
    "        print('non open')\n",
    "        # renvoie un error personnalisé et dis que la playliste est innacessible \n",
    "    for index, video_url in enumerate(playlist.video_urls, start=1):\n",
    "        try:\n",
    "            # Créer un objet YouTube pour chaque vidéo\n",
    "            yt = YouTube(video_url, use_po_token=True)\n",
    "            stream = yt.streams.filter(only_audio=True).first()\n",
    "            sanitized_title = yt.title.replace(\" \", \"_\").replace(\"/\", \"_\")  # Remplacer les caractères spéciaux\n",
    "            custom_filename = f\"{str(index).zfill(2)}-{sanitized_title}.mp4\"\n",
    "            custom_filepath = os.path.join(outputPath, custom_filename)\n",
    "            stream.download(output_path=outputPath, filename=custom_filename)\n",
    "        except:\n",
    "            \n",
    "            print('pb video', video_url)\n",
    "            # cas par cas / car \n",
    "            # penser au cas par cas ex : limite d'age / pas accessible \n",
    "            # A Venir\n",
    "            #pass\n",
    "    "
   ]
  },
  {
   "cell_type": "code",
   "execution_count": 8,
   "id": "5561ed90-90cc-460b-a307-de39627da09f",
   "metadata": {},
   "outputs": [],
   "source": [
    "def compresse(pathInput, pathOutput):\n",
    "    shutil.make_archive(pathOutput, 'zip', pathInput)"
   ]
  },
  {
   "cell_type": "code",
   "execution_count": 10,
   "id": "40580cff-9e14-4aa6-8ef6-2d8519a26700",
   "metadata": {},
   "outputs": [],
   "source": [
    "output = 'test'\n",
    "playlistUrl = 'https://www.youtube.com/playlist?list=PLyQMqzX7FAR-LQlwRjERuhvp3imj4dz6n'\n",
    "\n",
    "path = os.path.join(os.getcwd(), output) # Récupère le path complet de sortie\n",
    "download(playlistUrl,os.path.join(path , 'mp4')) # Télécharge la playlist en audio \n",
    "compresse(os.path.join(path, 'mp4') ,os.path.join(path, 'mp4') ) # Compresse le MP4\n"
   ]
  },
  {
   "cell_type": "markdown",
   "id": "406a7045-dd1b-455b-88be-a5a9f404ac1f",
   "metadata": {},
   "source": [
    "## Level 2"
   ]
  },
  {
   "cell_type": "markdown",
   "id": "3eff20be-e5b6-46b3-9a80-6194a5c45fd4",
   "metadata": {},
   "source": [
    "Level 1 + convertir en MP3"
   ]
  },
  {
   "cell_type": "markdown",
   "id": "d697f706-f64c-4934-8716-e52d610dbc17",
   "metadata": {},
   "source": [
    "`pip install moviepy` lien de la doc [ ICI ](https://pypi.org/project/moviepy/)\n"
   ]
  },
  {
   "cell_type": "markdown",
   "id": "aeb66ccf-cdd2-4ee0-98c5-73602eb14fd2",
   "metadata": {},
   "source": [
    "### Imports"
   ]
  },
  {
   "cell_type": "code",
   "execution_count": 11,
   "id": "532a6b10-8885-4776-87be-fe7a6a449902",
   "metadata": {},
   "outputs": [],
   "source": [
    "from moviepy import *\n",
    "from moviepy.editor import *"
   ]
  },
  {
   "cell_type": "code",
   "execution_count": 14,
   "id": "05e1df94-c4ef-4b98-b8f8-f6ec81c7e421",
   "metadata": {},
   "outputs": [],
   "source": [
    "def changeToMp3(pathInput, pathOutput):\n",
    "    for dossier, sous_dossiers, fichiers in os.walk(pathInput):\n",
    "        for fichier in fichiers:\n",
    "            if fichier.endswith('mp4'):\n",
    "                chemin_complet = os.path.join(dossier, fichier)\n",
    "                if not os.path.exists(pathOutput):\n",
    "                    os.makedirs(pathOutput)\n",
    "                chemin_complet_output = os.path.join(pathOutput ,fichier)\n",
    "                video = AudioFileClip(chemin_complet)\n",
    "                video.write_audiofile(chemin_complet_output[:-len('mp4')] + 'mp3',verbose=False, logger=None )"
   ]
  },
  {
   "cell_type": "code",
   "execution_count": 15,
   "id": "f8fc495b-9b90-4b10-a2ca-61a28e35cad0",
   "metadata": {},
   "outputs": [],
   "source": [
    "output = 'Alestorm/Seventh Rum Of a Seventh Rum'\n",
    "playlistUrl = 'https://www.youtube.com/playlist?list=PLDGkLoz_StY6V4MndC5IYQTeQ_wouzQES'\n",
    "\n",
    "path = os.path.join(os.getcwd(), output)\n",
    "download(playlistUrl,os.path.join(path , 'mp4'))\n",
    "changeToMp3(os.path.join(path, 'mp4'), os.path.join(path, 'mp3'))\n",
    "\n",
    "compresse(os.path.join(path, 'mp4') ,os.path.join(path, 'mp4') )\n",
    "compresse(os.path.join(path, 'mp3') ,os.path.join(path, 'mp3') )          "
   ]
  },
  {
   "cell_type": "markdown",
   "id": "738e339f-ec08-4515-8e83-1a053044dab1",
   "metadata": {},
   "source": [
    "## Level 3"
   ]
  },
  {
   "cell_type": "markdown",
   "id": "48a23c22-988a-471a-97f2-19f812cba276",
   "metadata": {},
   "source": [
    "Téléchargé plusieur à la chaine"
   ]
  },
  {
   "cell_type": "code",
   "execution_count": null,
   "id": "5297ba82-b91f-4b97-8244-1a7b35cfdf91",
   "metadata": {},
   "outputs": [],
   "source": [
    "outputTab = [\n",
    "    \n",
    "]\n",
    "playlistUrlTab = [\n",
    "    \n",
    "]\n",
    "dico = dict(output=outputTab, playlistUrl=playlistUrlTab)\n",
    "print(min(len(dico['output']), len( dico['playlistUrl'])))\n",
    "print(max(len(dico['output']), len( dico['playlistUrl'])))\n",
    "\n",
    "for i in range(min(len(dico['output']), len( dico['playlistUrl']))): \n",
    "    output = dico['output'][i]\n",
    "    playlistUrl = dico['playlistUrl'][i]\n",
    "    path = os.path.join(os.getcwd(), output)\n",
    "    download(playlistUrl,os.path.join(path , 'mp4'))\n",
    "    changeToMp3(os.path.join(path, 'mp4'), os.path.join(path, 'mp3'))\n",
    "    compresse(os.path.join(path, 'mp4') ,os.path.join(path, 'mp4') )\n",
    "    compresse(os.path.join(path, 'mp3') ,os.path.join(path, 'mp3') )   \n",
    "    print(output, ' FAIT ')"
   ]
  },
  {
   "cell_type": "markdown",
   "id": "14abbfa7-3db8-4f42-ad8d-bcaa7d6bf351",
   "metadata": {},
   "source": [
    "## Level 4"
   ]
  },
  {
   "cell_type": "markdown",
   "id": "eff8cfef-c17f-444d-8506-6ca97f3ee9cf",
   "metadata": {},
   "source": [
    "Téléchargé toute les playlists d'une chaîne et les mettre en mp3"
   ]
  },
  {
   "cell_type": "markdown",
   "id": "77d23949-de09-4db6-9a2c-21c7c9644907",
   "metadata": {},
   "source": [
    "### Imports"
   ]
  },
  {
   "cell_type": "code",
   "execution_count": 17,
   "id": "a9772d83-2e1e-459c-87a1-f628a6925e6c",
   "metadata": {},
   "outputs": [],
   "source": [
    "from pytubefix import Channel\n",
    "import re"
   ]
  },
  {
   "cell_type": "code",
   "execution_count": 18,
   "id": "e54c43e8-8c80-4d3e-afce-5214ba7a7ca1",
   "metadata": {},
   "outputs": [],
   "source": [
    "# Supposons que vous ayez déjà récupéré le contenu HTML de la chaîne et stocké dans une variable `html_content`\n",
    "def extract_playlists_links(html_content):\n",
    "    # Utilisation des expressions régulières pour trouver tous les liens de playlists\n",
    "    pattern = r'/playlist\\?list=[a-zA-Z0-9_-]+'\n",
    "    playlist_links = re.findall(pattern, html_content)\n",
    "    # Supprimer les doublons et construire les URL complètes\n",
    "    playlist_links = list(set([\"https://www.youtube.com\" + link for link in playlist_links]))\n",
    "    return playlist_links"
   ]
  },
  {
   "cell_type": "code",
   "execution_count": null,
   "id": "01862c30-1c54-47e9-93c7-575b9116edcd",
   "metadata": {},
   "outputs": [],
   "source": [
    "link_channel = '[Channel link]'\n",
    "\n",
    "channel = Channel(link_channel)\n",
    "# Exemple d'utilisation avec le HTML que vous avez déjà récupéré\n",
    "html_content = channel.playlists_html  # Remplacez par votre HTML\n",
    "playlists = extract_playlists_links(html_content)\n",
    "\n",
    "for url in playlists:\n",
    "    playlistTemp = Playlist(url)\n",
    "    output = 'OutputPrePath' + playlistTemp.title\n",
    "    playlistUrl = url\n",
    "\n",
    "    path = os.path.join(os.getcwd(), output)\n",
    "    download(playlistUrl,os.path.join(path , 'mp4'))\n",
    "    changeToMp3(os.path.join(path, 'mp4'), os.path.join(path, 'mp3'))\n",
    "\n",
    "    compresse(os.path.join(path, 'mp4') ,os.path.join(path, 'mp4') )\n",
    "    compresse(os.path.join(path, 'mp3') ,os.path.join(path, 'mp3') )  "
   ]
  },
  {
   "cell_type": "markdown",
   "id": "9ce8ccf2-98e0-4cd5-9ae9-fa0c7f541af2",
   "metadata": {},
   "source": [
    "## Utilis"
   ]
  },
  {
   "cell_type": "markdown",
   "id": "af9edd5c-98d0-410e-b303-97a9938f33e0",
   "metadata": {},
   "source": [
    "`pip install mechanize` lien de la doc [ ICI ](https://mechanize.readthedocs.io/en/latest/)\n",
    "\n"
   ]
  },
  {
   "cell_type": "markdown",
   "id": "bf8c849d-5905-460c-82e4-4a547265e5d7",
   "metadata": {},
   "source": [
    "### Imports "
   ]
  },
  {
   "cell_type": "code",
   "execution_count": 25,
   "id": "227842e6-7555-437d-abdb-fef2fb22f8e2",
   "metadata": {},
   "outputs": [],
   "source": [
    "import mechanize"
   ]
  },
  {
   "cell_type": "code",
   "execution_count": 28,
   "id": "63e14518-7f2d-4380-b163-b9f9fe36a5cc",
   "metadata": {},
   "outputs": [],
   "source": [
    "#Simule un navigateur\n",
    "br = mechanize.Browser()\n",
    "br.set_handle_robots(False)\n",
    "# Votre lien \n",
    "# exemple de lien de recherche : https://www.youtube.com/results?search_query=test&sp=EgIQAw%253D%253D\n",
    " # recherhe Utilisateur = search_query=test\n",
    " # only playlist : sp=EgIQAw%253D%253D\n",
    "resp = br.open(\"https://www.youtube.com/results?search_query=test&sp=EgIQAw%253D%253D\")\n",
    "links_playlist = extract_playlists_links(str(resp.read()))\n",
    "playlist = Playlist(links_playlist[0])\n",
    "yt = YouTube(playlist.video_urls[0])\n",
    "# yt.thumbnail_url pour extraire l'image de la playlist à savoir celle de la 1er vidéo"
   ]
  }
 ],
 "metadata": {
  "kernelspec": {
   "display_name": "Python 3 (ipykernel)",
   "language": "python",
   "name": "python3"
  },
  "language_info": {
   "codemirror_mode": {
    "name": "ipython",
    "version": 3
   },
   "file_extension": ".py",
   "mimetype": "text/x-python",
   "name": "python",
   "nbconvert_exporter": "python",
   "pygments_lexer": "ipython3",
   "version": "3.10.9"
  }
 },
 "nbformat": 4,
 "nbformat_minor": 5
}
